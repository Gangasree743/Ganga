{
  "nbformat": 4,
  "nbformat_minor": 0,
  "metadata": {
    "colab": {
      "provenance": [],
      "authorship_tag": "ABX9TyOkT/qALTA2SiWbYe5Hb7NJ",
      "include_colab_link": true
    },
    "kernelspec": {
      "name": "python3",
      "display_name": "Python 3"
    },
    "language_info": {
      "name": "python"
    }
  },
  "cells": [
    {
      "cell_type": "markdown",
      "metadata": {
        "id": "view-in-github",
        "colab_type": "text"
      },
      "source": [
        "<a href=\"https://colab.research.google.com/github/Gangasree743/Ganga/blob/main/JULY_29.ipynb\" target=\"_parent\"><img src=\"https://colab.research.google.com/assets/colab-badge.svg\" alt=\"Open In Colab\"/></a>"
      ]
    },
    {
      "cell_type": "markdown",
      "source": [],
      "metadata": {
        "id": "B-V2v0BhsMmA"
      }
    },
    {
      "cell_type": "markdown",
      "source": [
        "KILOMETERS TO MILES 1KM =0.621371\n"
      ],
      "metadata": {
        "id": "nYTGFczTsKcj"
      }
    },
    {
      "cell_type": "code",
      "execution_count": 1,
      "metadata": {
        "colab": {
          "base_uri": "https://localhost:8080/"
        },
        "id": "jaLroi4ErgAn",
        "outputId": "6dc32870-7d34-4022-e91e-1002eebffb74"
      },
      "outputs": [
        {
          "output_type": "stream",
          "name": "stdout",
          "text": [
            "2.1747985\n"
          ]
        }
      ],
      "source": [
        "km = 3.5\n",
        "conv_fac=0.621371\n",
        "miles = km * conv_fac\n",
        "print(miles)"
      ]
    },
    {
      "cell_type": "markdown",
      "source": [
        "CELSIUS TO FAHRENHEIT (1C = 1.8F)"
      ],
      "metadata": {
        "id": "mkWB6C9Ns_dw"
      }
    },
    {
      "cell_type": "code",
      "source": [
        "celsius = 37.55\n",
        "fahrenheit = (celsius * 1.8) + 32\n",
        "print(fahrenheit)"
      ],
      "metadata": {
        "colab": {
          "base_uri": "https://localhost:8080/"
        },
        "id": "4W5f5Trksdyj",
        "outputId": "6bcd2dbf-9902-41d0-adb5-6aa14fde84e9"
      },
      "execution_count": 2,
      "outputs": [
        {
          "output_type": "stream",
          "name": "stdout",
          "text": [
            "99.59\n"
          ]
        }
      ]
    },
    {
      "cell_type": "markdown",
      "source": [
        "NUMBER IS POSTIVE, NEGATIVE OR ZERO"
      ],
      "metadata": {
        "id": "BLTVWi7rubB5"
      }
    },
    {
      "cell_type": "code",
      "source": [
        "num = float(input(\"Enter a number: \"))\n",
        "if num > 0:\n",
        "   print(\"Positive number\")\n",
        "elif num == 0:\n",
        "   print(\"Zero\")\n",
        "else:\n",
        "   print(\"Negative number\")"
      ],
      "metadata": {
        "colab": {
          "base_uri": "https://localhost:8080/"
        },
        "id": "WUkmck6_ti3Z",
        "outputId": "b115f71e-155f-4398-87cf-31320971c0f2"
      },
      "execution_count": 3,
      "outputs": [
        {
          "output_type": "stream",
          "name": "stdout",
          "text": [
            "Enter a number: 33\n",
            "Positive number\n"
          ]
        }
      ]
    },
    {
      "cell_type": "markdown",
      "source": [
        "NUM IS EVEN OR ODD"
      ],
      "metadata": {
        "id": "ZYEze4__u16e"
      }
    },
    {
      "cell_type": "code",
      "source": [
        "n=int(input())\n",
        "if(n%2==0):\n",
        "  print(\"Even\")\n",
        "else:\n",
        "  print(\"Odd\")"
      ],
      "metadata": {
        "colab": {
          "base_uri": "https://localhost:8080/"
        },
        "id": "3lSTTnc8umIV",
        "outputId": "638e892c-b51d-4a93-d506-f0fc7d70f0e5"
      },
      "execution_count": 5,
      "outputs": [
        {
          "output_type": "stream",
          "name": "stdout",
          "text": [
            "6\n",
            "Even\n"
          ]
        }
      ]
    },
    {
      "cell_type": "markdown",
      "source": [
        "LEAP YEAR"
      ],
      "metadata": {
        "id": "moXoFYQ6yWTq"
      }
    },
    {
      "cell_type": "code",
      "source": [
        "year = 4000\n",
        "if(year%400==0) or ((year%4==0) and (year%100!=0)):\n",
        "  print(\"Leap Year\")\n",
        "else:\n",
        "  print(\"Not a Leap Year\")"
      ],
      "metadata": {
        "colab": {
          "base_uri": "https://localhost:8080/"
        },
        "id": "RRbbSEwkwisE",
        "outputId": "bd05b3b6-b1a3-45ed-ea26-59e82d831b6d"
      },
      "execution_count": 8,
      "outputs": [
        {
          "output_type": "stream",
          "name": "stdout",
          "text": [
            "Leap Year\n"
          ]
        }
      ]
    },
    {
      "cell_type": "markdown",
      "source": [
        "LARGEST AMONG THREE"
      ],
      "metadata": {
        "id": "IHmXZEnq2N1T"
      }
    },
    {
      "cell_type": "code",
      "source": [
        "a=2\n",
        "b=9\n",
        "c=6\n",
        "if a>=b and a>=c:\n",
        "  print(a,\"is largest\")\n",
        "elif b>=a and b>=c:\n",
        "  print(b,\"is largest\")\n",
        "else:\n",
        "  print(c,\"is largest\")"
      ],
      "metadata": {
        "colab": {
          "base_uri": "https://localhost:8080/"
        },
        "id": "o0nSEChtyaJR",
        "outputId": "676c4440-ff4b-4696-ed94-63893c279d34"
      },
      "execution_count": 10,
      "outputs": [
        {
          "output_type": "stream",
          "name": "stdout",
          "text": [
            "9 is largest\n"
          ]
        }
      ]
    },
    {
      "cell_type": "markdown",
      "source": [],
      "metadata": {
        "id": "yJ6OaX-oyYd9"
      }
    }
  ]
}