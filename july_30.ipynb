{
  "nbformat": 4,
  "nbformat_minor": 0,
  "metadata": {
    "colab": {
      "provenance": [],
      "authorship_tag": "ABX9TyNK3vYPLyE0H0CqSQi+67co",
      "include_colab_link": true
    },
    "kernelspec": {
      "name": "python3",
      "display_name": "Python 3"
    },
    "language_info": {
      "name": "python"
    }
  },
  "cells": [
    {
      "cell_type": "markdown",
      "metadata": {
        "id": "view-in-github",
        "colab_type": "text"
      },
      "source": [
        "<a href=\"https://colab.research.google.com/github/Gangasree743/Ganga/blob/main/july_30.ipynb\" target=\"_parent\"><img src=\"https://colab.research.google.com/assets/colab-badge.svg\" alt=\"Open In Colab\"/></a>"
      ]
    },
    {
      "cell_type": "markdown",
      "source": [],
      "metadata": {
        "id": "uNnJ_W3azqA6"
      }
    },
    {
      "cell_type": "markdown",
      "source": [
        "GIVEN NUMBER IS PRIME OR NOT"
      ],
      "metadata": {
        "id": "JtX2pmCkzvKS"
      }
    },
    {
      "cell_type": "code",
      "execution_count": null,
      "metadata": {
        "colab": {
          "base_uri": "https://localhost:8080/"
        },
        "id": "OiCRaBNbzofG",
        "outputId": "83c22e24-a4d1-4e5f-ce6d-c4eacc23a10c"
      },
      "outputs": [
        {
          "output_type": "stream",
          "name": "stdout",
          "text": [
            "4\n",
            "prime number\n"
          ]
        }
      ],
      "source": [
        "n=int(input())\n",
        "if(n%2==0)or(n%3==0)or(n%5==0)or(n%7==0):\n",
        " print(\"prime number\")\n",
        "else:\n",
        "  print(\"not a prime number\")"
      ]
    },
    {
      "cell_type": "code",
      "source": [
        "n=int(input())\n",
        "if n%2!=0 and a//a==1:\n",
        "  print(\"prime\")\n",
        "else:\n",
        "  print(\"not a prime\")"
      ],
      "metadata": {
        "colab": {
          "base_uri": "https://localhost:8080/"
        },
        "id": "zTxI3uek2I0u",
        "outputId": "5a7b91bf-d848-4c5e-9257-ca8ac5118986"
      },
      "execution_count": null,
      "outputs": [
        {
          "output_type": "stream",
          "name": "stdout",
          "text": [
            "4\n",
            "not a prime\n"
          ]
        }
      ]
    }
  ]
}