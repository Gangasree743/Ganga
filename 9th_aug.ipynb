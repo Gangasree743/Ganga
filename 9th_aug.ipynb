{
  "nbformat": 4,
  "nbformat_minor": 0,
  "metadata": {
    "colab": {
      "provenance": [],
      "authorship_tag": "ABX9TyM9/8rSsj97NqklyXKR7/oM",
      "include_colab_link": true
    },
    "kernelspec": {
      "name": "python3",
      "display_name": "Python 3"
    },
    "language_info": {
      "name": "python"
    }
  },
  "cells": [
    {
      "cell_type": "markdown",
      "metadata": {
        "id": "view-in-github",
        "colab_type": "text"
      },
      "source": [
        "<a href=\"https://colab.research.google.com/github/Gangasree743/Ganga/blob/main/9th_aug.ipynb\" target=\"_parent\"><img src=\"https://colab.research.google.com/assets/colab-badge.svg\" alt=\"Open In Colab\"/></a>"
      ]
    },
    {
      "cell_type": "code",
      "execution_count": 4,
      "metadata": {
        "colab": {
          "base_uri": "https://localhost:8080/"
        },
        "id": "jlWYIupteXpa",
        "outputId": "5353fbdb-71d7-46a7-e266-c2949e66c37e"
      },
      "outputs": [
        {
          "output_type": "stream",
          "name": "stdout",
          "text": [
            "0 even\n",
            "1 odd\n",
            "2 even\n",
            "3 odd\n",
            "4 even\n",
            "5 odd\n",
            "6 even\n",
            "7 odd\n",
            "8 even\n",
            "9 odd\n",
            "10 even\n",
            "11 odd\n",
            "12 even\n",
            "13 odd\n",
            "14 even\n",
            "15 odd\n",
            "16 even\n",
            "17 odd\n",
            "18 even\n",
            "19 odd\n",
            "20 even\n",
            "21 odd\n",
            "22 even\n",
            "23 odd\n",
            "24 even\n",
            "25 odd\n",
            "26 even\n",
            "27 odd\n",
            "28 even\n",
            "29 odd\n",
            "30 even\n",
            "31 odd\n",
            "32 even\n",
            "33 odd\n",
            "34 even\n",
            "35 odd\n",
            "36 even\n",
            "37 odd\n",
            "38 even\n",
            "39 odd\n",
            "40 even\n",
            "41 odd\n",
            "42 even\n",
            "43 odd\n",
            "44 even\n",
            "45 odd\n",
            "46 even\n",
            "47 odd\n",
            "48 even\n",
            "49 odd\n",
            "50 even\n"
          ]
        }
      ],
      "source": [
        "for i in range (0,51):\n",
        "  if(i%2==0):\n",
        "      print(i,\"even\")\n",
        "  else:\n",
        "      print(i,\"odd\")"
      ]
    },
    {
      "cell_type": "code",
      "source": [
        "num=int(input())\n",
        "factorial = 1\n",
        "for i in range(1,num+1):\n",
        "   factorial*=i\n",
        "print(factorial)"
      ],
      "metadata": {
        "colab": {
          "base_uri": "https://localhost:8080/"
        },
        "id": "XxAjcSJvfm67",
        "outputId": "5a417f6a-2b21-47e8-cf84-4922db275b52"
      },
      "execution_count": 16,
      "outputs": [
        {
          "output_type": "stream",
          "name": "stdout",
          "text": [
            "5\n",
            "120\n"
          ]
        }
      ]
    },
    {
      "cell_type": "code",
      "source": [],
      "metadata": {
        "id": "pnyP-y63hXMm"
      },
      "execution_count": null,
      "outputs": []
    }
  ]
}